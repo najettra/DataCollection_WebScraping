{
 "cells": [
  {
   "cell_type": "code",
   "execution_count": 1,
   "metadata": {},
   "outputs": [],
   "source": [
    "import scrapy"
   ]
  },
  {
   "cell_type": "code",
   "execution_count": 2,
   "metadata": {},
   "outputs": [
    {
     "name": "stdout",
     "output_type": "stream",
     "text": [
      "New Scrapy project 'project', using template directory '/usr/local/lib/python3.5/dist-packages/scrapy/templates/project', created in:\r\n",
      "    /home/najet/scripts_python/Module2:Crawling&Scraping/project\r\n",
      "\r\n",
      "You can start your first spider with:\r\n",
      "    cd project\r\n",
      "    scrapy genspider example example.com\r\n"
     ]
    }
   ],
   "source": [
    "!scrapy startproject project"
   ]
  },
  {
   "cell_type": "code",
   "execution_count": 3,
   "metadata": {},
   "outputs": [
    {
     "name": "stdout",
     "output_type": "stream",
     "text": [
      "/home/najet/scripts_python/Module2:Crawling&Scraping/project\n"
     ]
    }
   ],
   "source": [
    "% cd project"
   ]
  },
  {
   "cell_type": "code",
   "execution_count": 5,
   "metadata": {},
   "outputs": [
    {
     "name": "stdout",
     "output_type": "stream",
     "text": [
      "Spider 'wiki' already exists in module:\r\n",
      "  project.spiders.wiki\r\n"
     ]
    }
   ],
   "source": [
    "!scrapy genspider wiki https://www.wiki.tn/pc-portable/pc-portable-vegabook-10-quad-core-2go-32-go-gold-white-8524.html"
   ]
  },
  {
   "cell_type": "code",
   "execution_count": 6,
   "metadata": {},
   "outputs": [
    {
     "name": "stdout",
     "output_type": "stream",
     "text": [
      "['Pc portable VEGABOOK 10 Quad Core 2Go 32 Go - Gold-white']\r\n"
     ]
    }
   ],
   "source": [
    "! scrapy crawl --nolog wiki"
   ]
  },
  {
   "cell_type": "code",
   "execution_count": 2,
   "metadata": {},
   "outputs": [
    {
     "name": "stdout",
     "output_type": "stream",
     "text": [
      "/home/najet/scripts_python/Module2:Crawling&Scraping/project\n"
     ]
    }
   ],
   "source": [
    "% cd project"
   ]
  },
  {
   "cell_type": "code",
   "execution_count": 4,
   "metadata": {},
   "outputs": [
    {
     "name": "stdout",
     "output_type": "stream",
     "text": [
      "Created spider 'trademap' using template 'basic' in module:\r\n",
      "  project.spiders.trademap\r\n"
     ]
    }
   ],
   "source": [
    "!scrapy genspider trademap https://www.trademap.org"
   ]
  },
  {
   "cell_type": "code",
   "execution_count": 30,
   "metadata": {},
   "outputs": [
    {
     "name": "stdout",
     "output_type": "stream",
     "text": [
      "Spider 'exitreality' already exists in module:\r\n",
      "  project.spiders.exitreality\r\n"
     ]
    }
   ],
   "source": [
    "!scrapy genspider exitreality exitrealty.com"
   ]
  },
  {
   "cell_type": "code",
   "execution_count": 31,
   "metadata": {},
   "outputs": [
    {
     "name": "stdout",
     "output_type": "stream",
     "text": [
      "2018-06-22 14:29:26 [scrapy.utils.log] INFO: Scrapy 1.5.0 started (bot: project)\n",
      "2018-06-22 14:29:26 [scrapy.utils.log] INFO: Versions: lxml 4.2.1.0, libxml2 2.9.8, cssselect 1.0.3, parsel 1.4.0, w3lib 1.19.0, Twisted 18.4.0, Python 3.5.2 (default, Nov 23 2017, 16:37:01) - [GCC 5.4.0 20160609], pyOpenSSL 18.0.0 (OpenSSL 1.0.2g  1 Mar 2016), cryptography 2.2.2, Platform Linux-4.4.0-128-generic-x86_64-with-Ubuntu-16.04-xenial\n",
      "2018-06-22 14:29:26 [scrapy.crawler] INFO: Overridden settings: {'BOT_NAME': 'project', 'NEWSPIDER_MODULE': 'project.spiders', 'SPIDER_MODULES': ['project.spiders'], 'ROBOTSTXT_OBEY': True}\n",
      "2018-06-22 14:29:26 [scrapy.middleware] INFO: Enabled extensions:\n",
      "['scrapy.extensions.corestats.CoreStats',\n",
      " 'scrapy.extensions.logstats.LogStats',\n",
      " 'scrapy.extensions.telnet.TelnetConsole',\n",
      " 'scrapy.extensions.memusage.MemoryUsage']\n",
      "2018-06-22 14:29:26 [scrapy.middleware] INFO: Enabled downloader middlewares:\n",
      "['scrapy.downloadermiddlewares.robotstxt.RobotsTxtMiddleware',\n",
      " 'scrapy.downloadermiddlewares.httpauth.HttpAuthMiddleware',\n",
      " 'scrapy.downloadermiddlewares.downloadtimeout.DownloadTimeoutMiddleware',\n",
      " 'scrapy.downloadermiddlewares.defaultheaders.DefaultHeadersMiddleware',\n",
      " 'scrapy.downloadermiddlewares.useragent.UserAgentMiddleware',\n",
      " 'scrapy.downloadermiddlewares.retry.RetryMiddleware',\n",
      " 'scrapy.downloadermiddlewares.redirect.MetaRefreshMiddleware',\n",
      " 'scrapy.downloadermiddlewares.httpcompression.HttpCompressionMiddleware',\n",
      " 'scrapy.downloadermiddlewares.redirect.RedirectMiddleware',\n",
      " 'scrapy.downloadermiddlewares.cookies.CookiesMiddleware',\n",
      " 'scrapy.downloadermiddlewares.httpproxy.HttpProxyMiddleware',\n",
      " 'scrapy.downloadermiddlewares.stats.DownloaderStats']\n",
      "2018-06-22 14:29:26 [scrapy.middleware] INFO: Enabled spider middlewares:\n",
      "['scrapy.spidermiddlewares.httperror.HttpErrorMiddleware',\n",
      " 'scrapy.spidermiddlewares.offsite.OffsiteMiddleware',\n",
      " 'scrapy.spidermiddlewares.referer.RefererMiddleware',\n",
      " 'scrapy.spidermiddlewares.urllength.UrlLengthMiddleware',\n",
      " 'scrapy.spidermiddlewares.depth.DepthMiddleware']\n",
      "2018-06-22 14:29:26 [scrapy.middleware] INFO: Enabled item pipelines:\n",
      "[]\n",
      "2018-06-22 14:29:26 [scrapy.core.engine] INFO: Spider opened\n",
      "2018-06-22 14:29:26 [scrapy.extensions.logstats] INFO: Crawled 0 pages (at 0 pages/min), scraped 0 items (at 0 items/min)\n",
      "2018-06-22 14:29:26 [scrapy.extensions.telnet] DEBUG: Telnet console listening on 127.0.0.1:6023\n",
      "2018-06-22 14:29:26 [scrapy.downloadermiddlewares.redirect] DEBUG: Redirecting (302) to <GET http://exitrealty.com/?_escaped_fragment_=%2Frobots.txt%3F%25> from <GET http://exitrealty.com/robots.txt>\n",
      "2018-06-22 14:29:26 [scrapy.downloadermiddlewares.retry] DEBUG: Retrying <GET http://exitrealty.com/?_escaped_fragment_=%2Frobots.txt%3F%25> (failed 1 times): 500 Internal Server Error\n",
      "2018-06-22 14:29:27 [scrapy.downloadermiddlewares.retry] DEBUG: Retrying <GET http://exitrealty.com/?_escaped_fragment_=%2Frobots.txt%3F%25> (failed 2 times): 500 Internal Server Error\n",
      "2018-06-22 14:29:27 [scrapy.downloadermiddlewares.retry] DEBUG: Gave up retrying <GET http://exitrealty.com/?_escaped_fragment_=%2Frobots.txt%3F%25> (failed 3 times): 500 Internal Server Error\n",
      "2018-06-22 14:29:27 [scrapy.core.engine] DEBUG: Crawled (500) <GET http://exitrealty.com/?_escaped_fragment_=%2Frobots.txt%3F%25> (referer: None)\n",
      "2018-06-22 14:29:29 [scrapy.core.engine] DEBUG: Crawled (200) <GET http://exitrealty.com/> (referer: None)\n",
      "2018-06-22 14:29:31 [scrapy.core.engine] DEBUG: Crawled (200) <POST http://exitrealty.com/> (referer: http://exitrealty.com/)\n",
      "------\n",
      "2018-06-22 14:29:31 [scrapy.core.scraper] ERROR: Spider error processing <POST http://exitrealty.com/> (referer: http://exitrealty.com/)\n",
      "Traceback (most recent call last):\n",
      "  File \"/usr/local/lib/python3.5/dist-packages/scrapy/utils/defer.py\", line 102, in iter_errback\n",
      "    yield next(it)\n",
      "  File \"/usr/local/lib/python3.5/dist-packages/scrapy/spidermiddlewares/offsite.py\", line 30, in process_spider_output\n",
      "    for x in result:\n",
      "  File \"/usr/local/lib/python3.5/dist-packages/scrapy/spidermiddlewares/referer.py\", line 339, in <genexpr>\n",
      "    return (_set_referer(r) for r in result or ())\n",
      "  File \"/usr/local/lib/python3.5/dist-packages/scrapy/spidermiddlewares/urllength.py\", line 37, in <genexpr>\n",
      "    return (r for r in result or () if _filter(r))\n",
      "  File \"/usr/local/lib/python3.5/dist-packages/scrapy/spidermiddlewares/depth.py\", line 58, in <genexpr>\n",
      "    return (r for r in result or () if _filter(r))\n",
      "  File \"/home/najet/scripts_python/Module2:Crawling&Scraping/project/project/spiders/exitreality.py\", line 57, in parse_page\n",
      "    '__EVENTVALIDATION': re.search(r\"__EVENTVALIDATION\\|(.*?)\\|\", response.body, re.MULTILINE).group(1),\n",
      "  File \"/usr/lib/python3.5/re.py\", line 173, in search\n",
      "    return _compile(pattern, flags).search(string)\n",
      "TypeError: cannot use a string pattern on a bytes-like object\n",
      "2018-06-22 14:29:31 [scrapy.core.engine] INFO: Closing spider (finished)\n",
      "2018-06-22 14:29:31 [scrapy.statscollectors] INFO: Dumping Scrapy stats:\n",
      "{'downloader/request_bytes': 1760,\n",
      " 'downloader/request_count': 6,\n",
      " 'downloader/request_method_count/GET': 5,\n",
      " 'downloader/request_method_count/POST': 1,\n",
      " 'downloader/response_bytes': 70162,\n",
      " 'downloader/response_count': 6,\n",
      " 'downloader/response_status_count/200': 2,\n",
      " 'downloader/response_status_count/302': 1,\n",
      " 'downloader/response_status_count/500': 3,\n",
      " 'finish_reason': 'finished',\n",
      " 'finish_time': datetime.datetime(2018, 6, 22, 13, 29, 31, 920465),\n",
      " 'log_count/DEBUG': 8,\n",
      " 'log_count/ERROR': 1,\n",
      " 'log_count/INFO': 7,\n",
      " 'memusage/max': 83505152,\n",
      " 'memusage/startup': 83505152,\n",
      " 'request_depth_max': 1,\n",
      " 'response_received_count': 3,\n",
      " 'retry/count': 2,\n",
      " 'retry/max_reached': 1,\n",
      " 'retry/reason_count/500 Internal Server Error': 2,\n",
      " 'scheduler/dequeued': 2,\n",
      " 'scheduler/dequeued/memory': 2,\n",
      " 'scheduler/enqueued': 2,\n",
      " 'scheduler/enqueued/memory': 2,\n",
      " 'spider_exceptions/TypeError': 1,\n",
      " 'start_time': datetime.datetime(2018, 6, 22, 13, 29, 26, 187417)}\n",
      "2018-06-22 14:29:31 [scrapy.core.engine] INFO: Spider closed (finished)\n"
     ]
    }
   ],
   "source": [
    "!scrapy crawl  exitreality"
   ]
  },
  {
   "cell_type": "code",
   "execution_count": 3,
   "metadata": {},
   "outputs": [
    {
     "name": "stdout",
     "output_type": "stream",
     "text": [
      "Created spider 'product_trade' using template 'basic' in module:\r\n",
      "  project.spiders.product_trade\r\n"
     ]
    }
   ],
   "source": [
    "!scrapy genspider product_trade www.trademap.org"
   ]
  },
  {
   "cell_type": "code",
   "execution_count": null,
   "metadata": {},
   "outputs": [],
   "source": []
  }
 ],
 "metadata": {
  "kernelspec": {
   "display_name": "Python 3",
   "language": "python",
   "name": "python3"
  },
  "language_info": {
   "codemirror_mode": {
    "name": "ipython",
    "version": 3
   },
   "file_extension": ".py",
   "mimetype": "text/x-python",
   "name": "python",
   "nbconvert_exporter": "python",
   "pygments_lexer": "ipython3",
   "version": "3.5.2"
  }
 },
 "nbformat": 4,
 "nbformat_minor": 2
}
