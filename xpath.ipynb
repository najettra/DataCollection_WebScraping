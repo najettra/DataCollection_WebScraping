{
 "cells": [
  {
   "cell_type": "code",
   "execution_count": 3,
   "metadata": {
    "scrolled": true
   },
   "outputs": [],
   "source": [
    "from parsel import Selector"
   ]
  },
  {
   "cell_type": "code",
   "execution_count": 5,
   "metadata": {},
   "outputs": [],
   "source": [
    "htmlstring = '''u<html>\n",
    "    <head>\n",
    "        <title>This is a title</title>\n",
    "        <meta content=\"text/html\" />\n",
    "    </head>\n",
    "    <body>\n",
    "        <div>\n",
    "            <div>\n",
    "                <p>This is a paragraph.</p>\n",
    "                <p>Is this <a href=\"page2.html\">a link</a>?</p>\n",
    "                <br />\n",
    "                Apparently.\n",
    "            </div>\n",
    "            <div class=\"second\">\n",
    "                Nothing to add.\n",
    "                Except maybe this <a href=\"page3.html\">other link</a>.\n",
    "                <!-- And this comment -->\n",
    "            </div>\n",
    "        </div>\n",
    "    </body>\n",
    "</html>'''"
   ]
  },
  {
   "cell_type": "code",
   "execution_count": 35,
   "metadata": {},
   "outputs": [
    {
     "data": {
      "text/plain": [
       "[]"
      ]
     },
     "execution_count": 35,
     "metadata": {},
     "output_type": "execute_result"
    }
   ],
   "source": [
    "sel=Selector(text=htmlstring)\n",
    "sel.xpath('//div[@class=\"second\"][2]').extract()"
   ]
  },
  {
   "cell_type": "code",
   "execution_count": 36,
   "metadata": {},
   "outputs": [
    {
     "data": {
      "text/plain": [
       "['<div class=\"second\">\\n                Nothing to add.\\n                Except maybe this <a href=\"page3.html\">other link</a>.\\n                <!-- And this comment -->\\n            </div>']"
      ]
     },
     "execution_count": 36,
     "metadata": {},
     "output_type": "execute_result"
    }
   ],
   "source": [
    "sel.xpath('//div[2][@class=\"second\"]').extract()"
   ]
  },
  {
   "cell_type": "code",
   "execution_count": null,
   "metadata": {},
   "outputs": [],
   "source": []
  }
 ],
 "metadata": {
  "kernelspec": {
   "display_name": "Python 3",
   "language": "python",
   "name": "python3"
  },
  "language_info": {
   "codemirror_mode": {
    "name": "ipython",
    "version": 3
   },
   "file_extension": ".py",
   "mimetype": "text/x-python",
   "name": "python",
   "nbconvert_exporter": "python",
   "pygments_lexer": "ipython3",
   "version": "3.5.2"
  }
 },
 "nbformat": 4,
 "nbformat_minor": 2
}
