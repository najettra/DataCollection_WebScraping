{
 "cells": [
  {
   "cell_type": "code",
   "execution_count": 9,
   "metadata": {},
   "outputs": [],
   "source": [
    "from selenium.webdriver.support.ui import WebDriverWait \n"
   ]
  },
  {
   "cell_type": "code",
   "execution_count": 27,
   "metadata": {},
   "outputs": [
    {
     "name": "stdout",
     "output_type": "stream",
     "text": [
      "List of importing markets for a product exported by Tunisia\n",
      "Algeria 1,636 2,449 2,793 824 788\n",
      "Turkey 3,679 18,168 3,917 691 670\n",
      "Mexico 208 156 326 231 569\n",
      "Singapore 199 669 825 618 553\n",
      "Pitcairn 0 0 0 0 521\n",
      "Czech Republic 0 4 1,234 350 519\n",
      "Panama 1,906 1,335 791 873 518\n",
      "Libya, State of 3,440 7,630 2,406 1,316 424\n",
      "Romania 1,850 138 2,424 1,762 393\n",
      "Denmark 375 1,069 748 279 373\n",
      "Latvia 285 348 499 214 197\n",
      "Saudi Arabia 153 72 193 140 147\n",
      "Greece 312 93 267 291 128\n",
      "Ethiopia 1,657 121 56 8 82\n",
      "Norway 52 61 54 65 77\n",
      "Gibraltar 31 211 230 52 67\n",
      "Iraq 0 0 36 2 65\n",
      "Jordan 1 0 0 0 58\n",
      "Taipei, Chinese 53 135 132 67 55\n",
      "Cameroon 1 0 3 10 48\n",
      "United Arab Emirates 58 155 46 123 45\n",
      "Chile 282 7 13 3 44\n",
      "Brazil 111 860 414 435 43\n",
      "Ireland 15 31 58 1 40\n",
      "Central African Republic 0 0 0 0 29\n",
      "1 2 3 4 5\n",
      "\n",
      "\n",
      "\n",
      "\n",
      "\n"
     ]
    }
   ],
   "source": [
    "from selenium import webdriver\n",
    "driver = webdriver.Firefox()\n",
    "driver.get(\"https://www.trademap.org/Country_SelProductCountry_TS.aspx?nvpm=1|788||||62|||2|1|1|2|2|1|2|1|1\")\n",
    "p_element = driver.find_element_by_xpath('//span[@id=\"ctl00_Label_Title\"]')\n",
    "#print(p_element.text)\n",
    "link = driver.find_element_by_link_text('2')\n",
    "link.click()\n",
    "driver.switch_to_active_element\n",
    "elements = driver.find_elements_by_xpath('//table[contains(@id,\"ctl00_PageContent\")]//tr[position()>2]')\n",
    "\n",
    "for element in elements:\n",
    "    print(element.text)"
   ]
  },
  {
   "cell_type": "code",
   "execution_count": null,
   "metadata": {},
   "outputs": [],
   "source": []
  }
 ],
 "metadata": {
  "kernelspec": {
   "display_name": "Python 3",
   "language": "python",
   "name": "python3"
  },
  "language_info": {
   "codemirror_mode": {
    "name": "ipython",
    "version": 3
   },
   "file_extension": ".py",
   "mimetype": "text/x-python",
   "name": "python",
   "nbconvert_exporter": "python",
   "pygments_lexer": "ipython3",
   "version": "3.6.6"
  }
 },
 "nbformat": 4,
 "nbformat_minor": 2
}
